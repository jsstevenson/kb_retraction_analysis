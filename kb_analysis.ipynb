{
 "cells": [
  {
   "cell_type": "code",
   "execution_count": 1,
   "id": "c3380e56-5e63-4e2d-8dd1-0a3818b96a70",
   "metadata": {},
   "outputs": [],
   "source": [
    "from retraction_analysis.utils import get_retractions\n",
    "\n",
    "r = get_retractions()"
   ]
  },
  {
   "cell_type": "code",
   "execution_count": 34,
   "id": "1e0b4ebe-2a3c-4a08-9229-e5a578402fa6",
   "metadata": {},
   "outputs": [],
   "source": [
    "# retracted_pmids = {str(int(pmid)) for pmid in r[\"OriginalPaperPubMedID\"].dropna()}.union(\n",
    "#     {str(int(pmid)) for pmid in r[\"RetractionPubMedID\"].dropna()}) - {0}\n",
    "retracted_pmids = {str(int(pmid)) for pmid in r[\"OriginalPaperPubMedID\"].dropna()} - {0}"
   ]
  },
  {
   "cell_type": "code",
   "execution_count": 49,
   "id": "cf691757-112a-48cf-883b-9b901d86bf0a",
   "metadata": {},
   "outputs": [
    {
     "data": {
      "text/plain": [
       "19039"
      ]
     },
     "execution_count": 49,
     "metadata": {},
     "output_type": "execute_result"
    }
   ],
   "source": [
    "len(retracted_pmids)"
   ]
  },
  {
   "cell_type": "code",
   "execution_count": 35,
   "id": "74a5f443-1b1b-4416-b30e-ce45b557d860",
   "metadata": {},
   "outputs": [],
   "source": [
    "import plotly.graph_objects as go\n",
    "import pandas as pd\n",
    "import psycopg"
   ]
  },
  {
   "cell_type": "markdown",
   "id": "45eb0071-8c5d-4aa9-9668-cca61422ace4",
   "metadata": {},
   "source": [
    "# CIViC"
   ]
  },
  {
   "cell_type": "code",
   "execution_count": 36,
   "id": "dbe416ae-eb33-412b-9716-4d821de59a8c",
   "metadata": {},
   "outputs": [],
   "source": [
    "from civicpy import civic"
   ]
  },
  {
   "cell_type": "code",
   "execution_count": 37,
   "id": "4fd5a7eb-5e62-47c6-a0e1-be6e8061d761",
   "metadata": {},
   "outputs": [],
   "source": [
    "evidence = civic.get_all_evidence()"
   ]
  },
  {
   "cell_type": "code",
   "execution_count": 38,
   "id": "1655d97c-fd76-429b-96ce-57d7e3fe58af",
   "metadata": {},
   "outputs": [],
   "source": [
    "civic_pmids = {i.source.citation_id for i in evidence}"
   ]
  },
  {
   "cell_type": "code",
   "execution_count": 39,
   "id": "c1cf21ae-effa-4ee0-b92c-ea9727ca98f7",
   "metadata": {
    "scrolled": true
   },
   "outputs": [
    {
     "data": {
      "text/plain": [
       "{'25961751', '26287849'}"
      ]
     },
     "execution_count": 39,
     "metadata": {},
     "output_type": "execute_result"
    }
   ],
   "source": [
    "retracted_pmids.intersection(civic_pmids)"
   ]
  },
  {
   "cell_type": "markdown",
   "id": "05655870-6ab5-4c5c-b3ae-16870050e822",
   "metadata": {},
   "source": [
    "PMID 26287849 is associated with an erratum regarding disclosures:\n",
    "\n",
    "> Vemurafenib in Multiple Nonmelanoma Cancers with BRAF V600 Mutations (Original Article, N Engl J Med 2015;373:726-736), Adjuvant Pertuzumab and Trastuzumab in Early HER2-Positive Breast Cancer (Original Article, N Engl J Med 2017;377:122-131). Disclosure information for Dr. Jose Baselga was inaccurate in two articles. In the 2017 article, the disclosure footnote (p. 131) should have included the following statement: “Dr. Baselga reports receiving personal and other fees from Northern Biologics, Infinity Pharmaceuticals, ApoGen Biotechnologies, PMV Pharma, Juno Therapeutics, Roche/Genentech, Novartis, Eli Lilly, Verastem, Chugai Pharmaceuticals, AstraZeneca, Sanofi-Aventis, Aragon Pharmaceuticals, Bayer Pharmaceuticals, and Seragon.” The article is correct at NEJM.org. With both the 2015 article and the 2017 article, updated disclosure forms for Dr. Baselga have been posted.\n",
    "\n",
    "> Editor’s note: Dr. Baselga failed to disclose in these articles his multiple, substantial financial associations, which are now apparent in the updated disclosure forms. When we learned of this breach of trust, we conveyed our concern to Dr. Baselga’s institution, Memorial Sloan Kettering Cancer Center."
   ]
  },
  {
   "cell_type": "code",
   "execution_count": 40,
   "id": "bdf05cdc-ca45-46bb-80ed-fd373173f822",
   "metadata": {},
   "outputs": [
    {
     "data": {
      "text/plain": [
       "{<CIViC evidence 1574>,\n",
       " <CIViC evidence 1575>,\n",
       " <CIViC evidence 1576>,\n",
       " <CIViC evidence 1598>,\n",
       " <CIViC evidence 3742>,\n",
       " <CIViC evidence 5905>,\n",
       " <CIViC evidence 6045>}"
      ]
     },
     "execution_count": 40,
     "metadata": {},
     "output_type": "execute_result"
    }
   ],
   "source": [
    "{i for i in evidence if i.source.citation_id in {'26287849'}}"
   ]
  },
  {
   "cell_type": "markdown",
   "id": "c0108923-fcdb-494d-ad08-d9d7f41e6b52",
   "metadata": {},
   "source": [
    "PMID 25961751 is retracted: https://pubmed.ncbi.nlm.nih.gov/36044518/\n",
    "\n",
    "However, the only associated evidence item was rejected during curation."
   ]
  },
  {
   "cell_type": "code",
   "execution_count": 41,
   "id": "98850505-b0d9-47f0-9245-2eba3331ad26",
   "metadata": {
    "scrolled": true
   },
   "outputs": [
    {
     "data": {
      "text/plain": [
       "{<CIViC evidence 1582>}"
      ]
     },
     "execution_count": 41,
     "metadata": {},
     "output_type": "execute_result"
    }
   ],
   "source": [
    "retracted_civic_id = {i for i in evidence if i.source.citation_id in {'25961751'}}\n",
    "retracted_civic_id"
   ]
  },
  {
   "cell_type": "code",
   "execution_count": 42,
   "id": "4076e83c-5ceb-47c2-935b-468f280d7b61",
   "metadata": {},
   "outputs": [
    {
     "data": {
      "text/plain": [
       "'rejected'"
      ]
     },
     "execution_count": 42,
     "metadata": {},
     "output_type": "execute_result"
    }
   ],
   "source": [
    "list(retracted_civic_id)[0].status"
   ]
  },
  {
   "cell_type": "markdown",
   "id": "48aa80ea-f807-453d-9371-6889d16e4a75",
   "metadata": {},
   "source": [
    "✅"
   ]
  },
  {
   "cell_type": "markdown",
   "id": "a050549a-f5ee-4cc3-90ae-030e863d0207",
   "metadata": {},
   "source": [
    "# DGIdb\n",
    "\n",
    "Focusing on v5 claims initially"
   ]
  },
  {
   "cell_type": "code",
   "execution_count": 43,
   "id": "491d87d0-fab9-4a4f-a276-c734e6e84727",
   "metadata": {},
   "outputs": [],
   "source": [
    "with psycopg.connect(\"dbname=dgidb user=postgres\") as conn:\n",
    "    with conn.cursor() as cur:\n",
    "        result = cur.execute(\"SELECT * FROM publications\")\n",
    "        pubs = result.fetchall()"
   ]
  },
  {
   "cell_type": "code",
   "execution_count": 44,
   "id": "2f21454f-3783-4889-b354-85f807bee486",
   "metadata": {},
   "outputs": [
    {
     "data": {
      "text/plain": [
       "12239"
      ]
     },
     "execution_count": 44,
     "metadata": {},
     "output_type": "execute_result"
    }
   ],
   "source": [
    "dgidb_pmids = {str(i[1]) for i in pubs}\n",
    "len(dgidb_pmids)"
   ]
  },
  {
   "cell_type": "code",
   "execution_count": 46,
   "id": "2de41e5f-8206-464f-b983-d6f1d251915d",
   "metadata": {},
   "outputs": [
    {
     "data": {
      "text/plain": [
       "24"
      ]
     },
     "execution_count": 46,
     "metadata": {},
     "output_type": "execute_result"
    }
   ],
   "source": [
    "retracted_dgidb_pmids = retracted_pmids.intersection(dgidb_pmids)\n",
    "len(retracted_dgidb_pmids)"
   ]
  },
  {
   "cell_type": "code",
   "execution_count": 48,
   "id": "20b775cf-cfc4-429c-9f1a-3723896f6e2e",
   "metadata": {},
   "outputs": [
    {
     "data": {
      "text/plain": [
       "0.0019609445216112425"
      ]
     },
     "execution_count": 48,
     "metadata": {},
     "output_type": "execute_result"
    }
   ],
   "source": [
    "len(retracted_dgidb_pmids) / len(dgidb_pmids)"
   ]
  },
  {
   "cell_type": "markdown",
   "id": "29ee4f23-8f84-404e-a3ca-3ba70b565937",
   "metadata": {},
   "source": [
    "❌"
   ]
  },
  {
   "cell_type": "code",
   "execution_count": 74,
   "id": "fa32e9b6-7d91-4b0e-b68e-a6c1d846bf6b",
   "metadata": {
    "scrolled": true
   },
   "outputs": [
    {
     "data": {
      "text/html": [
       "<div>\n",
       "<style scoped>\n",
       "    .dataframe tbody tr th:only-of-type {\n",
       "        vertical-align: middle;\n",
       "    }\n",
       "\n",
       "    .dataframe tbody tr th {\n",
       "        vertical-align: top;\n",
       "    }\n",
       "\n",
       "    .dataframe thead th {\n",
       "        text-align: right;\n",
       "    }\n",
       "</style>\n",
       "<table border=\"1\" class=\"dataframe\">\n",
       "  <thead>\n",
       "    <tr style=\"text-align: right;\">\n",
       "      <th></th>\n",
       "      <th>Drug</th>\n",
       "      <th>Gene</th>\n",
       "      <th>Citation</th>\n",
       "    </tr>\n",
       "  </thead>\n",
       "  <tbody>\n",
       "    <tr>\n",
       "      <th>0</th>\n",
       "      <td>CELECOXIB</td>\n",
       "      <td>HSPA4</td>\n",
       "      <td>Narayanan NK et al., 2006, Docosahexaenoic aci...</td>\n",
       "    </tr>\n",
       "    <tr>\n",
       "      <th>1</th>\n",
       "      <td>DEXTRAN SULFATE</td>\n",
       "      <td>F11</td>\n",
       "      <td>Yun TH et al., 2003, Thrombin activation of fa...</td>\n",
       "    </tr>\n",
       "    <tr>\n",
       "      <th>2</th>\n",
       "      <td>PROPOFOL</td>\n",
       "      <td>APP</td>\n",
       "      <td>Mandal PK et al., 2007, Molecular understandin...</td>\n",
       "    </tr>\n",
       "    <tr>\n",
       "      <th>3</th>\n",
       "      <td>CHEMOPREVENTIVE</td>\n",
       "      <td>NFE2L2</td>\n",
       "      <td>Jain AK et al., 2005, Nuclear import and expor...</td>\n",
       "    </tr>\n",
       "    <tr>\n",
       "      <th>4</th>\n",
       "      <td>STI-571</td>\n",
       "      <td>XIAP</td>\n",
       "      <td>Nimmanapalli R et al., 2001, Cotreatment with ...</td>\n",
       "    </tr>\n",
       "    <tr>\n",
       "      <th>5</th>\n",
       "      <td>SAHA</td>\n",
       "      <td>BIRC5</td>\n",
       "      <td>Kulp SK et al., 2006, Antitumor effects of a n...</td>\n",
       "    </tr>\n",
       "    <tr>\n",
       "      <th>6</th>\n",
       "      <td>LY-294002</td>\n",
       "      <td>AKT1</td>\n",
       "      <td>Won J et al., 2006, Small molecule-based rever...</td>\n",
       "    </tr>\n",
       "    <tr>\n",
       "      <th>7</th>\n",
       "      <td>KU-55933</td>\n",
       "      <td>ATM</td>\n",
       "      <td>Won J et al., 2006, Small molecule-based rever...</td>\n",
       "    </tr>\n",
       "    <tr>\n",
       "      <th>8</th>\n",
       "      <td>APD-209</td>\n",
       "      <td>ADRENERGIC RECEPTOR BETA-2</td>\n",
       "      <td>Mantovani G et al., 2013, Drugs in development...</td>\n",
       "    </tr>\n",
       "    <tr>\n",
       "      <th>9</th>\n",
       "      <td>RESVERATROL</td>\n",
       "      <td>HSPB2</td>\n",
       "      <td>Bezstarosti K et al., 2006, Differential prote...</td>\n",
       "    </tr>\n",
       "    <tr>\n",
       "      <th>10</th>\n",
       "      <td>LEUPROLIDE ACETATE</td>\n",
       "      <td>SMAD3</td>\n",
       "      <td>Luo X et al., 2003, Gonadotropin releasing hor...</td>\n",
       "    </tr>\n",
       "    <tr>\n",
       "      <th>11</th>\n",
       "      <td>CIGLITAZONE</td>\n",
       "      <td>PPARG</td>\n",
       "      <td>Guh JH et al., 2010, Development of novel aden...</td>\n",
       "    </tr>\n",
       "    <tr>\n",
       "      <th>12</th>\n",
       "      <td>CIGLITAZONE</td>\n",
       "      <td>STAT3</td>\n",
       "      <td>Guh JH et al., 2010, Development of novel aden...</td>\n",
       "    </tr>\n",
       "    <tr>\n",
       "      <th>13</th>\n",
       "      <td>Ipatasertib</td>\n",
       "      <td>PTEN</td>\n",
       "      <td>Saura C et al., 2017, A First-in-Human Phase I...</td>\n",
       "    </tr>\n",
       "    <tr>\n",
       "      <th>14</th>\n",
       "      <td>5-FLUOROURACIL</td>\n",
       "      <td>FAS</td>\n",
       "      <td>Iwase M et al., 2003, Enhanced susceptibility ...</td>\n",
       "    </tr>\n",
       "    <tr>\n",
       "      <th>15</th>\n",
       "      <td>MAPK INHIBITORS</td>\n",
       "      <td>AGER</td>\n",
       "      <td>Guo XH et al., 2006, Advanced glycation end pr...</td>\n",
       "    </tr>\n",
       "    <tr>\n",
       "      <th>16</th>\n",
       "      <td>KINASE INHIBITOR</td>\n",
       "      <td>NFE2L2</td>\n",
       "      <td>Kannan S et al., 2006, Low and high dose UVB r...</td>\n",
       "    </tr>\n",
       "    <tr>\n",
       "      <th>17</th>\n",
       "      <td>UVB</td>\n",
       "      <td>NFE2L2</td>\n",
       "      <td>Kannan S et al., 2006, Low and high dose UVB r...</td>\n",
       "    </tr>\n",
       "    <tr>\n",
       "      <th>18</th>\n",
       "      <td>ANTISENSE OLIGONUCLEOTIDES</td>\n",
       "      <td>CYR61</td>\n",
       "      <td>Lin MT et al., 2008, Involvement of hypoxia-in...</td>\n",
       "    </tr>\n",
       "    <tr>\n",
       "      <th>19</th>\n",
       "      <td>CAMPTOTHECIN</td>\n",
       "      <td>HUS1</td>\n",
       "      <td>Wang X et al., 2004, Involvement of Hus1 in th...</td>\n",
       "    </tr>\n",
       "    <tr>\n",
       "      <th>20</th>\n",
       "      <td>CHEMOPREVENTIVE</td>\n",
       "      <td>NFE2L2</td>\n",
       "      <td>Jain AK et al., 2006, Phosphorylation of tyros...</td>\n",
       "    </tr>\n",
       "    <tr>\n",
       "      <th>21</th>\n",
       "      <td>TARIQUIDAR</td>\n",
       "      <td>ABCB1</td>\n",
       "      <td>Goldsborough AS et al., 2011, Collateral sensi...</td>\n",
       "    </tr>\n",
       "    <tr>\n",
       "      <th>22</th>\n",
       "      <td>TIOPRONIN</td>\n",
       "      <td>ABCC1</td>\n",
       "      <td>Goldsborough AS et al., 2011, Collateral sensi...</td>\n",
       "    </tr>\n",
       "    <tr>\n",
       "      <th>23</th>\n",
       "      <td>Vemurafenib</td>\n",
       "      <td>BRAF</td>\n",
       "      <td>Hyman DM et al., 2015, Vemurafenib in Multiple...</td>\n",
       "    </tr>\n",
       "    <tr>\n",
       "      <th>24</th>\n",
       "      <td>Cetuximab</td>\n",
       "      <td>BRAF</td>\n",
       "      <td>Hyman DM et al., 2015, Vemurafenib in Multiple...</td>\n",
       "    </tr>\n",
       "    <tr>\n",
       "      <th>25</th>\n",
       "      <td>INSULIN</td>\n",
       "      <td>PIK3CG</td>\n",
       "      <td>Ma Y et al., 2004, Mechanisms of hemorrhage-in...</td>\n",
       "    </tr>\n",
       "    <tr>\n",
       "      <th>26</th>\n",
       "      <td>ERYTHROPOIETIN</td>\n",
       "      <td>MAPK14</td>\n",
       "      <td>Shan R et al., 1999, Distinct roles of JNKs/p3...</td>\n",
       "    </tr>\n",
       "    <tr>\n",
       "      <th>27</th>\n",
       "      <td>HEN EGG LYSOZYME</td>\n",
       "      <td>BCL2</td>\n",
       "      <td>Van Parijs L et al., 1998, The Fas/Fas ligand ...</td>\n",
       "    </tr>\n",
       "    <tr>\n",
       "      <th>28</th>\n",
       "      <td>5-FLUORODEOXYURIDINE</td>\n",
       "      <td>DNMT1</td>\n",
       "      <td>Ghoshal K et al., 2005, 5-Aza-deoxycytidine in...</td>\n",
       "    </tr>\n",
       "  </tbody>\n",
       "</table>\n",
       "</div>"
      ],
      "text/plain": [
       "                          Drug                        Gene  \\\n",
       "0                    CELECOXIB                       HSPA4   \n",
       "1              DEXTRAN SULFATE                         F11   \n",
       "2                     PROPOFOL                         APP   \n",
       "3              CHEMOPREVENTIVE                      NFE2L2   \n",
       "4                      STI-571                        XIAP   \n",
       "5                         SAHA                       BIRC5   \n",
       "6                    LY-294002                        AKT1   \n",
       "7                     KU-55933                         ATM   \n",
       "8                      APD-209  ADRENERGIC RECEPTOR BETA-2   \n",
       "9                  RESVERATROL                       HSPB2   \n",
       "10          LEUPROLIDE ACETATE                       SMAD3   \n",
       "11                 CIGLITAZONE                       PPARG   \n",
       "12                 CIGLITAZONE                       STAT3   \n",
       "13                 Ipatasertib                        PTEN   \n",
       "14              5-FLUOROURACIL                         FAS   \n",
       "15             MAPK INHIBITORS                        AGER   \n",
       "16            KINASE INHIBITOR                      NFE2L2   \n",
       "17                         UVB                      NFE2L2   \n",
       "18  ANTISENSE OLIGONUCLEOTIDES                       CYR61   \n",
       "19                CAMPTOTHECIN                        HUS1   \n",
       "20             CHEMOPREVENTIVE                      NFE2L2   \n",
       "21                  TARIQUIDAR                       ABCB1   \n",
       "22                   TIOPRONIN                       ABCC1   \n",
       "23                 Vemurafenib                        BRAF   \n",
       "24                   Cetuximab                        BRAF   \n",
       "25                     INSULIN                      PIK3CG   \n",
       "26              ERYTHROPOIETIN                      MAPK14   \n",
       "27            HEN EGG LYSOZYME                        BCL2   \n",
       "28        5-FLUORODEOXYURIDINE                       DNMT1   \n",
       "\n",
       "                                             Citation  \n",
       "0   Narayanan NK et al., 2006, Docosahexaenoic aci...  \n",
       "1   Yun TH et al., 2003, Thrombin activation of fa...  \n",
       "2   Mandal PK et al., 2007, Molecular understandin...  \n",
       "3   Jain AK et al., 2005, Nuclear import and expor...  \n",
       "4   Nimmanapalli R et al., 2001, Cotreatment with ...  \n",
       "5   Kulp SK et al., 2006, Antitumor effects of a n...  \n",
       "6   Won J et al., 2006, Small molecule-based rever...  \n",
       "7   Won J et al., 2006, Small molecule-based rever...  \n",
       "8   Mantovani G et al., 2013, Drugs in development...  \n",
       "9   Bezstarosti K et al., 2006, Differential prote...  \n",
       "10  Luo X et al., 2003, Gonadotropin releasing hor...  \n",
       "11  Guh JH et al., 2010, Development of novel aden...  \n",
       "12  Guh JH et al., 2010, Development of novel aden...  \n",
       "13  Saura C et al., 2017, A First-in-Human Phase I...  \n",
       "14  Iwase M et al., 2003, Enhanced susceptibility ...  \n",
       "15  Guo XH et al., 2006, Advanced glycation end pr...  \n",
       "16  Kannan S et al., 2006, Low and high dose UVB r...  \n",
       "17  Kannan S et al., 2006, Low and high dose UVB r...  \n",
       "18  Lin MT et al., 2008, Involvement of hypoxia-in...  \n",
       "19  Wang X et al., 2004, Involvement of Hus1 in th...  \n",
       "20  Jain AK et al., 2006, Phosphorylation of tyros...  \n",
       "21  Goldsborough AS et al., 2011, Collateral sensi...  \n",
       "22  Goldsborough AS et al., 2011, Collateral sensi...  \n",
       "23  Hyman DM et al., 2015, Vemurafenib in Multiple...  \n",
       "24  Hyman DM et al., 2015, Vemurafenib in Multiple...  \n",
       "25  Ma Y et al., 2004, Mechanisms of hemorrhage-in...  \n",
       "26  Shan R et al., 1999, Distinct roles of JNKs/p3...  \n",
       "27  Van Parijs L et al., 1998, The Fas/Fas ligand ...  \n",
       "28  Ghoshal K et al., 2005, 5-Aza-deoxycytidine in...  "
      ]
     },
     "execution_count": 74,
     "metadata": {},
     "output_type": "execute_result"
    }
   ],
   "source": [
    "def lookup_interaction_claim(pmid: str):\n",
    "    with psycopg.connect(\"dbname=dgidb user=postgres\") as conn:\n",
    "        with conn.cursor() as cur:\n",
    "            result = cur.execute(f\"\"\"\n",
    "            SELECT ic.id,\n",
    "            s.source_db_name, \n",
    "            dc.name,\n",
    "            gc.name,\n",
    "            p.citation\n",
    "    \n",
    "            FROM interaction_claims ic\n",
    "            LEFT JOIN sources s on ic.source_id = s.id\n",
    "            JOIN interaction_claims_publications icp ON icp.interaction_claim_id = ic.id\n",
    "            JOIN publications p ON icp.publication_id = p.id\n",
    "            LEFT JOIN drug_claims dc ON ic.drug_claim_id = dc.id\n",
    "            LEFT JOIN gene_claims gc ON ic.gene_claim_id = gc.id \n",
    "            WHERE p.pmid = {pmid};\n",
    "            \"\"\")\n",
    "            return result.fetchall()\n",
    "\n",
    "_interaction_claim_details = []\n",
    "for pmid in retracted_dgidb_pmids:\n",
    "    _interaction_claim_details += lookup_interaction_claim(pmid)\n",
    "interaction_claim_details = pd.DataFrame(interaction_claim_details, columns=[\"Claim ID\", \"Source\", \"Drug\", \"Gene\", \"Citation\"]).drop_duplicates()\n",
    "interaction_claim_details.to_csv(\"dgidb_retracted_publications.csv\")\n",
    "interaction_claim_details[[\"Drug\", \"Gene\", \"Citation\"]]"
   ]
  },
  {
   "cell_type": "markdown",
   "id": "bb26b019-beb4-4681-a37a-a4c8a3f53cba",
   "metadata": {},
   "source": [
    "### Specifics (WIP)\n",
    "\n",
    "**Kannan et al (Kinase Inhibitor, UVB -> NFE2L2)**\n",
    "\n",
    "**Guo et al (Mapk Inhibitors -> AGER)**\n",
    "\n",
    "Retracted: https://pubmed.ncbi.nlm.nih.gov/19594496/\n",
    "\n",
    "**Iwase et al (5-FLUOROURACIL -> FAS)**\n",
    "\n",
    "Retracted: https://pubmed.ncbi.nlm.nih.gov/36883770/\n",
    "\n",
    "**Saura et al (Ipatasertib -> PTEN)**\n",
    "\n",
    "> In the original version of this article (1), the stated disclosure of José Baselga is incorrect. The error has been corrected in the latest online HTML and PDF versions of the article. The authors regret this error.\n",
    "\n",
    "https://aacrjournals.org/cancerdiscovery/article/8/11/1490/6211/Correction-A-First-in-Human-Phase-I-Study-of-the\n",
    "\n",
    "**Guh et al (Ciglitazone -> PPARG, STAT3)**\n",
    "\n",
    "Retracted: https://pubmed.ncbi.nlm.nih.gov/29772897/\n",
    "\n",
    "**Luo et al (Leuprolide Acetate -> SMAD3)**\n",
    "\n",
    "Retracted: https://pubmed.ncbi.nlm.nih.gov/25879939/\n",
    "\n",
    "**Bezstarosti et al (Rseveratrol -> HSPB2)**\n",
    "\n",
    "Retracted: https://pubmed.ncbi.nlm.nih.gov/23189335/\n",
    "\n",
    "**Mantovani et al (APD-209 -> Adrenergic Receptor Beta-2)**\n",
    "\n",
    "Retracted: https://www.ncbi.nlm.nih.gov/pmc/articles/PMC3839839/\n",
    "\n",
    "**Won et al (LY-294002 -> AKT1, KU-55933 -> ATM)**\n",
    "\n",
    "Retracted: https://www.nature.com/articles/nchembio0708-431\n",
    "\n",
    "**Kulp et al (Saha -> BIRC5)**\n",
    "\n",
    "Retracted: https://aacrjournals.org/clincancerres/article/25/9/2940/82483/Retraction-Antitumor-Effects-of-a-Novel\n",
    "\n",
    "**Nimmanapalli et al (STI-571 -> XIAP)**\n",
    "\n",
    "> The editors are publishing this note to alert readers to concerns about this article (1). Figure 5A and B use the same β-actin control panel. The β-actin control panel in Fig. 3A is similar to lanes 2 through 6 in the β-actin panels in Fig. 5A and B. The original data are no longer available for review, and the authors stand by the conclusions of the article.\n",
    "\n",
    "https://aacrjournals.org/clincancerres/article/25/13/4195/81746/Editor-s-Note-Cotreatment-with-STI-571-Enhances\n",
    "\n",
    "**Mandal et al (Propofol -> APP)**\n",
    "\n",
    "Retracted: https://pubmed.ncbi.nlm.nih.gov/17935358/\n",
    "\n",
    "**Narayanan et al (Celexocib -> HSPA4)**\n",
    "\n",
    "Retracted: https://pubmed.ncbi.nlm.nih.gov/26853534/\n",
    "\n",
    "**Yun TH et al (Dextran Sulfate -> F11)**\n",
    "\n",
    "> Table 1 has been retracted by the authors for the following reasons. All of the authors with the exception of F. A. Baglia retract the specific data listed above because recent experiments conducted by Dipali Sinha, Sergei Shikov, Wenman Wu, and Syed Ahmad in the laboratory of Peter N. Walsh failrd to confirm the conclusion that activated platelets promote the activation of factor XI by thrombin. All of the other results reported in this paper are valid. A detailed explanation of the chronology of events leading to this retraction and the retraction of a paper from Biochemistry (Baglia, F. A., and Walsh, P. N. (1998) Prothrombin is a cofactor for the binding of factor XI to the platelet surface and for platelet-mediated factor XI activation by thrombin. Biochemistry 37 2271-2281) has been published in the journal Biochemistry (manuscript bi-2007-01501k, accepted July 27, 2007). We apologize to the readers, reviewers, and editors of the Journal of Biological Chemistry for publishing these erroneous data.\n",
    "\n",
    "https://www.sciencedirect.com/science/article/pii/S0021925820586420?via%3Dihub"
   ]
  }
 ],
 "metadata": {
  "kernelspec": {
   "display_name": "retraction",
   "language": "python",
   "name": "retraction"
  },
  "language_info": {
   "codemirror_mode": {
    "name": "ipython",
    "version": 3
   },
   "file_extension": ".py",
   "mimetype": "text/x-python",
   "name": "python",
   "nbconvert_exporter": "python",
   "pygments_lexer": "ipython3",
   "version": "3.11.0"
  }
 },
 "nbformat": 4,
 "nbformat_minor": 5
}
