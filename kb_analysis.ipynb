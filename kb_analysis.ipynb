{
 "cells": [
  {
   "cell_type": "code",
   "execution_count": 11,
   "id": "c3380e56-5e63-4e2d-8dd1-0a3818b96a70",
   "metadata": {},
   "outputs": [],
   "source": [
    "from retraction_analysis.utils import get_retractions\n",
    "\n",
    "r = get_retractions()"
   ]
  },
  {
   "cell_type": "code",
   "execution_count": 44,
   "id": "74a5f443-1b1b-4416-b30e-ce45b557d860",
   "metadata": {},
   "outputs": [],
   "source": [
    "import plotly.graph_objects as go\n",
    "import pandas as pd\n",
    "import psycopg"
   ]
  },
  {
   "cell_type": "markdown",
   "id": "45eb0071-8c5d-4aa9-9668-cca61422ace4",
   "metadata": {},
   "source": [
    "# CIViC"
   ]
  },
  {
   "cell_type": "code",
   "execution_count": 2,
   "id": "dbe416ae-eb33-412b-9716-4d821de59a8c",
   "metadata": {},
   "outputs": [],
   "source": [
    "from civicpy import civic"
   ]
  },
  {
   "cell_type": "code",
   "execution_count": 3,
   "id": "4fd5a7eb-5e62-47c6-a0e1-be6e8061d761",
   "metadata": {},
   "outputs": [
    {
     "name": "stderr",
     "output_type": "stream",
     "text": [
      "WARNING:root:Local cache at /Users/jss009/.civicpy/cache.pkl is stale, updating from remote.\n",
      "WARNING:root:Downloading remote cache from https://civicdb.org/downloads/nightly/nightly-civicpy_cache.pkl.\n"
     ]
    }
   ],
   "source": [
    "evidence = civic.get_all_evidence()"
   ]
  },
  {
   "cell_type": "code",
   "execution_count": 37,
   "id": "1655d97c-fd76-429b-96ce-57d7e3fe58af",
   "metadata": {},
   "outputs": [],
   "source": [
    "civic_pmids = {i.source.citation_id for i in evidence}"
   ]
  },
  {
   "cell_type": "code",
   "execution_count": 38,
   "id": "1e0b4ebe-2a3c-4a08-9229-e5a578402fa6",
   "metadata": {},
   "outputs": [],
   "source": [
    "retracted_pmids = {str(int(pmid)) for pmid in r[\"RetractionPubMedID\"].dropna()} - {0}"
   ]
  },
  {
   "cell_type": "code",
   "execution_count": 39,
   "id": "c1cf21ae-effa-4ee0-b92c-ea9727ca98f7",
   "metadata": {
    "scrolled": true
   },
   "outputs": [
    {
     "data": {
      "text/plain": [
       "set()"
      ]
     },
     "execution_count": 39,
     "metadata": {},
     "output_type": "execute_result"
    }
   ],
   "source": [
    "retracted_pmids.intersection(civic_pmids)"
   ]
  },
  {
   "cell_type": "markdown",
   "id": "48aa80ea-f807-453d-9371-6889d16e4a75",
   "metadata": {},
   "source": [
    "✅"
   ]
  },
  {
   "cell_type": "markdown",
   "id": "a050549a-f5ee-4cc3-90ae-030e863d0207",
   "metadata": {},
   "source": [
    "# DGIdb\n",
    "\n",
    "Focusing on v5 claims initially"
   ]
  },
  {
   "cell_type": "code",
   "execution_count": 45,
   "id": "491d87d0-fab9-4a4f-a276-c734e6e84727",
   "metadata": {},
   "outputs": [],
   "source": [
    "with psycopg.connect(\"dbname=dgidb user=postgres\") as conn:\n",
    "    with conn.cursor() as cur:\n",
    "        result = cur.execute(\"SELECT * FROM publications\")\n",
    "        pubs = result.fetchall()"
   ]
  },
  {
   "cell_type": "code",
   "execution_count": 53,
   "id": "2f21454f-3783-4889-b354-85f807bee486",
   "metadata": {},
   "outputs": [
    {
     "data": {
      "text/plain": [
       "12239"
      ]
     },
     "execution_count": 53,
     "metadata": {},
     "output_type": "execute_result"
    }
   ],
   "source": [
    "dgidb_pmids = {str(i[1]) for i in pubs}\n",
    "len(dgidb_pmids)"
   ]
  },
  {
   "cell_type": "code",
   "execution_count": 52,
   "id": "2de41e5f-8206-464f-b983-d6f1d251915d",
   "metadata": {},
   "outputs": [
    {
     "data": {
      "text/plain": [
       "{'15899874'}"
      ]
     },
     "execution_count": 52,
     "metadata": {},
     "output_type": "execute_result"
    }
   ],
   "source": [
    "retracted_pmids.intersection(dgidb_pmids)"
   ]
  },
  {
   "cell_type": "markdown",
   "id": "29ee4f23-8f84-404e-a3ca-3ba70b565937",
   "metadata": {},
   "source": [
    "❌"
   ]
  },
  {
   "cell_type": "code",
   "execution_count": 59,
   "id": "fa32e9b6-7d91-4b0e-b68e-a6c1d846bf6b",
   "metadata": {},
   "outputs": [
    {
     "name": "stdout",
     "output_type": "stream",
     "text": [
      "[('NCI', '5-FLUORODEOXYURIDINE', 'DNMT1', 'Ghoshal K et al., 2005, 5-Aza-deoxycytidine induces selective degradation of DNA methyltransferase 1 by a proteasomal pathway that requires the KEN box, bromo-adjacent homology domain, and nuclear localization signal., Mol Cell Biol')]\n"
     ]
    }
   ],
   "source": [
    "with psycopg.connect(\"dbname=dgidb user=postgres\") as conn:\n",
    "    with conn.cursor() as cur:\n",
    "        result = cur.execute(\"\"\"\n",
    "        SELECT s.source_db_name, \n",
    "        dc.name,\n",
    "        gc.name,\n",
    "        p.citation\n",
    "\n",
    "        FROM interaction_claims ic\n",
    "        LEFT JOIN sources s on ic.source_id = s.id\n",
    "        JOIN interaction_claims_publications icp ON icp.interaction_claim_id = ic.id\n",
    "        JOIN publications p ON icp.publication_id = p.id\n",
    "        LEFT JOIN drug_claims dc ON ic.drug_claim_id = dc.id\n",
    "        LEFT JOIN gene_claims gc ON ic.gene_claim_id = gc.id \n",
    "        WHERE p.pmid = 15899874;\n",
    "        \"\"\")\n",
    "        print(result.fetchall())"
   ]
  },
  {
   "cell_type": "code",
   "execution_count": null,
   "id": "9548c4e1-53d0-4626-9882-71c5adfdac83",
   "metadata": {},
   "outputs": [],
   "source": []
  }
 ],
 "metadata": {
  "kernelspec": {
   "display_name": "retraction",
   "language": "python",
   "name": "retraction"
  },
  "language_info": {
   "codemirror_mode": {
    "name": "ipython",
    "version": 3
   },
   "file_extension": ".py",
   "mimetype": "text/x-python",
   "name": "python",
   "nbconvert_exporter": "python",
   "pygments_lexer": "ipython3",
   "version": "3.11.0"
  }
 },
 "nbformat": 4,
 "nbformat_minor": 5
}
